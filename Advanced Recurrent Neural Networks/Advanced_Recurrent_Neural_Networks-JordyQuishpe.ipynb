{
  "nbformat": 4,
  "nbformat_minor": 0,
  "metadata": {
    "colab": {
      "provenance": []
    },
    "kernelspec": {
      "name": "python3",
      "display_name": "Python 3"
    },
    "language_info": {
      "name": "python"
    }
  },
  "cells": [
    {
      "cell_type": "markdown",
      "source": [
        "# 12 Advanced Recurrent Neural Networks\n",
        "\n",
        "Advanced Neural Network architectures represent significant advancements in the field of deep learning, which are most used in the domain of sequence modeling and processing. These architectures build upon the traditional feedforward neural networks and introduce recurrent connections, allowing them to exhibit temporal dynamics and memory capabilities.\n",
        "\n",
        "* The Elman RNN employs a simple recurrent loop in its hidden layer, enabling it to capture short-term temporal dependencies, making it suitable for applications such as speech recognition and time series analysis.\n",
        "* The Jordan RNN possesses feedback connections from the output layer to the hidden layer, rendering it capable of modeling longer-term dependencies, which finds applications in machine translation and language modeling tasks.\n",
        "* The Bidirectional RNN combines both forward and backward temporal processing, allowing it to consider both past and future context in its predictions, making it effective in natural language processing tasks such as sentiment analysis and named entity recognition.\n",
        "\n",
        "These advanced neural network architectures significantly expand the modeling capabilities of traditional neural networks and have become indispensable tools in various sequential data processing applications."
      ],
      "metadata": {
        "id": "qjT9lYxzfkCZ"
      }
    },
    {
      "cell_type": "markdown",
      "source": [
        "### Exercise\n",
        "Use the IMDB movie reviews dataset to perform sentiment analysis with a Elman, Jordan and Bidirectional RNN.\n",
        "Highlight the differences on the performance of each architecture."
      ],
      "metadata": {
        "id": "bxG3CisXfq_T"
      }
    },
    {
      "cell_type": "code",
      "source": [
        "from keras.datasets import imdb\n",
        "from keras.preprocessing import sequence\n",
        "from keras.models import Sequential\n",
        "from keras.layers import Embedding, SimpleRNN, Dense, Bidirectional\n",
        "import tensorflow as tf\n",
        "from tensorflow import keras"
      ],
      "metadata": {
        "id": "y-sHXN6rfr9Y"
      },
      "execution_count": 17,
      "outputs": []
    },
    {
      "cell_type": "markdown",
      "source": [
        "1. Load the IMDB movie reviews dataset"
      ],
      "metadata": {
        "id": "fKVSLmTHfuov"
      }
    },
    {
      "cell_type": "code",
      "source": [
        "max_features = 5000  # Number of words to consider as features\n",
        "max_len_short = 100  # Maximum sequence length for short sequences\n",
        "max_len_long = 500   # Maximum sequence length for long sequences\n",
        "\n",
        "(x_train, y_train), (x_test, y_test) = imdb.load_data(num_words=max_features)"
      ],
      "metadata": {
        "id": "Zrm8LuYvgIoy"
      },
      "execution_count": 18,
      "outputs": []
    },
    {
      "cell_type": "markdown",
      "source": [
        "2. Pad sequences to a fixed length for RNN input"
      ],
      "metadata": {
        "id": "NLag7itCgO8E"
      }
    },
    {
      "cell_type": "code",
      "source": [
        "x_train_short = keras.preprocessing.sequence.pad_sequences(x_train, maxlen=max_len_short)\n",
        "x_test_short = keras.preprocessing.sequence.pad_sequences(x_test, maxlen=max_len_short)\n",
        "\n",
        "x_train_long = keras.preprocessing.sequence.pad_sequences(x_train, maxlen=max_len_long)\n",
        "x_test_long = keras.preprocessing.sequence.pad_sequences(x_test, maxlen=max_len_long)"
      ],
      "metadata": {
        "id": "mJftv4wagPlZ"
      },
      "execution_count": 19,
      "outputs": []
    },
    {
      "cell_type": "markdown",
      "source": [
        "3. Build the distinct RNN models"
      ],
      "metadata": {
        "id": "cbObjQ9_gV4x"
      }
    },
    {
      "cell_type": "code",
      "source": [
        "from keras.layers.pooling.global_max_pooling1d import GlobalMaxPooling1D\n",
        "GlobalMaxPooling1D\n",
        "def build_elman_rnn_model():\n",
        "    model = Sequential()\n",
        "    model.add(Embedding(max_features, 32))\n",
        "    model.add(SimpleRNN(32, activation='relu'))\n",
        "    model.add(Dense(1, activation='sigmoid'))\n",
        "    return model\n",
        "\n",
        "def build_jordan_rnn_model():\n",
        "    model = Sequential()\n",
        "    model.add(Embedding(max_features, 32))\n",
        "    model.add(SimpleRNN(32, activation='relu', return_sequences=True))\n",
        "    model.add(GlobalMaxPooling1D())\n",
        "    model.add(Dense(1, activation='sigmoid'))\n",
        "    return model\n",
        "\n",
        "def build_bidirectional_rnn_model():\n",
        "    model = Sequential()\n",
        "    model.add(Embedding(max_features, 32))\n",
        "    model.add(Bidirectional(SimpleRNN(32, activation='relu')))\n",
        "    model.add(Dense(1, activation='sigmoid'))\n",
        "    return model"
      ],
      "metadata": {
        "id": "ja61b5bYgYsY"
      },
      "execution_count": 20,
      "outputs": []
    },
    {
      "cell_type": "markdown",
      "source": [
        "4. Train and evaluate the RNN model"
      ],
      "metadata": {
        "id": "kM6WHsfQgc22"
      }
    },
    {
      "cell_type": "code",
      "source": [
        "def train_and_evaluate_model(model, x_train, y_train, x_test, y_test):\n",
        "    model.compile(optimizer='adam', loss='binary_crossentropy', metrics=['accuracy'])\n",
        "    history = model.fit(x_train, y_train, epochs=10, batch_size=128, validation_split=0.2)\n",
        "    loss, accuracy = model.evaluate(x_test, y_test)\n",
        "    return loss, accuracy, history"
      ],
      "metadata": {
        "id": "kJ8t9WCnge7d"
      },
      "execution_count": 21,
      "outputs": []
    },
    {
      "cell_type": "markdown",
      "source": [
        "5. Train and evaluate the RNN model on short sequences"
      ],
      "metadata": {
        "id": "Kewo7PDxgjMo"
      }
    },
    {
      "cell_type": "code",
      "source": [
        "print(\"\\nTraining RNN Elman model on short sequences:\")\n",
        "rnn_model_short_elman = build_elman_rnn_model()\n",
        "loss_short_elmam, accuracy_short_elman, history_short_elman = train_and_evaluate_model(\n",
        "    rnn_model_short_elman, x_train_short, y_train, x_test_short, y_test\n",
        ")\n",
        "\n",
        "print(\"\\nTraining RNN Jordan model on short sequences:\")\n",
        "rnn_model_short_jordan = build_jordan_rnn_model()\n",
        "loss_short_jordan, accuracy_short_jordan, history_short_jordan = train_and_evaluate_model(\n",
        "    rnn_model_short_jordan, x_train_short, y_train, x_test_short, y_test\n",
        ")\n",
        "\n",
        "print(\"\\nTraining RNN Bidirectional model on short sequences:\")\n",
        "rnn_model_short_bidirection = build_bidirectional_rnn_model()\n",
        "loss_short_bidirection, accuracy_short_bidirection, history_short_bidirection=train_and_evaluate_model(\n",
        "    rnn_model_short_bidirection, x_train_short, y_train, x_test_short, y_test\n",
        ")"
      ],
      "metadata": {
        "colab": {
          "base_uri": "https://localhost:8080/"
        },
        "id": "26yD8Dvkgmif",
        "outputId": "b719a6f6-d8d7-4002-b790-33a2e3e65624"
      },
      "execution_count": 22,
      "outputs": [
        {
          "output_type": "stream",
          "name": "stdout",
          "text": [
            "\n",
            "Training RNN Elman model on short sequences:\n",
            "Epoch 1/10\n",
            "157/157 [==============================] - 5s 26ms/step - loss: 0.6439 - accuracy: 0.6194 - val_loss: 0.5183 - val_accuracy: 0.7672\n",
            "Epoch 2/10\n",
            "157/157 [==============================] - 4s 24ms/step - loss: 0.3855 - accuracy: 0.8334 - val_loss: 0.4273 - val_accuracy: 0.7980\n",
            "Epoch 3/10\n",
            "157/157 [==============================] - 4s 28ms/step - loss: 0.2929 - accuracy: 0.8780 - val_loss: 0.3745 - val_accuracy: 0.8272\n",
            "Epoch 4/10\n",
            "157/157 [==============================] - 4s 25ms/step - loss: 0.2470 - accuracy: 0.9011 - val_loss: 0.3863 - val_accuracy: 0.8354\n",
            "Epoch 5/10\n",
            "157/157 [==============================] - 4s 24ms/step - loss: 0.2238 - accuracy: 0.9115 - val_loss: 0.4271 - val_accuracy: 0.8210\n",
            "Epoch 6/10\n",
            "157/157 [==============================] - 4s 28ms/step - loss: 0.1961 - accuracy: 0.9225 - val_loss: 0.3849 - val_accuracy: 0.8310\n",
            "Epoch 7/10\n",
            "157/157 [==============================] - 4s 24ms/step - loss: 0.1822 - accuracy: 0.9307 - val_loss: 0.4254 - val_accuracy: 0.8364\n",
            "Epoch 8/10\n",
            "157/157 [==============================] - 4s 24ms/step - loss: 0.1788 - accuracy: 0.9272 - val_loss: 0.5231 - val_accuracy: 0.8360\n",
            "Epoch 9/10\n",
            "157/157 [==============================] - 4s 28ms/step - loss: 0.1300 - accuracy: 0.9513 - val_loss: 0.4758 - val_accuracy: 0.8306\n",
            "Epoch 10/10\n",
            "157/157 [==============================] - 4s 24ms/step - loss: 0.1119 - accuracy: 0.9594 - val_loss: 0.4880 - val_accuracy: 0.8294\n",
            "782/782 [==============================] - 4s 5ms/step - loss: 0.5090 - accuracy: 0.8268\n",
            "\n",
            "Training RNN Jordan model on short sequences:\n",
            "Epoch 1/10\n",
            "157/157 [==============================] - 6s 32ms/step - loss: 0.6078 - accuracy: 0.7149 - val_loss: 0.4535 - val_accuracy: 0.7892\n",
            "Epoch 2/10\n",
            "157/157 [==============================] - 4s 26ms/step - loss: 0.3739 - accuracy: 0.8340 - val_loss: 0.3649 - val_accuracy: 0.8372\n",
            "Epoch 3/10\n",
            "157/157 [==============================] - 5s 32ms/step - loss: 0.2865 - accuracy: 0.8827 - val_loss: 0.3767 - val_accuracy: 0.8348\n",
            "Epoch 4/10\n",
            "157/157 [==============================] - 4s 27ms/step - loss: 0.2418 - accuracy: 0.9041 - val_loss: 0.3745 - val_accuracy: 0.8368\n",
            "Epoch 5/10\n",
            "157/157 [==============================] - 4s 26ms/step - loss: 0.2030 - accuracy: 0.9230 - val_loss: 0.3976 - val_accuracy: 0.8288\n",
            "Epoch 6/10\n",
            "157/157 [==============================] - 5s 31ms/step - loss: 0.1696 - accuracy: 0.9370 - val_loss: 0.4288 - val_accuracy: 0.8178\n",
            "Epoch 7/10\n",
            "157/157 [==============================] - 4s 27ms/step - loss: 0.1450 - accuracy: 0.9484 - val_loss: 0.4776 - val_accuracy: 0.8162\n",
            "Epoch 8/10\n",
            "157/157 [==============================] - 4s 27ms/step - loss: 0.1270 - accuracy: 0.9550 - val_loss: 0.5740 - val_accuracy: 0.8168\n",
            "Epoch 9/10\n",
            "157/157 [==============================] - 5s 31ms/step - loss: 0.1019 - accuracy: 0.9671 - val_loss: 0.5945 - val_accuracy: 0.8130\n",
            "Epoch 10/10\n",
            "157/157 [==============================] - 4s 26ms/step - loss: 0.0880 - accuracy: 0.9722 - val_loss: 0.5963 - val_accuracy: 0.8130\n",
            "782/782 [==============================] - 3s 4ms/step - loss: 0.5920 - accuracy: 0.8138\n",
            "\n",
            "Training RNN Bidirectional model on short sequences:\n",
            "Epoch 1/10\n",
            "157/157 [==============================] - 8s 43ms/step - loss: 0.6657 - accuracy: 0.5918 - val_loss: 0.5540 - val_accuracy: 0.7496\n",
            "Epoch 2/10\n",
            "157/157 [==============================] - 6s 35ms/step - loss: 0.3886 - accuracy: 0.8288 - val_loss: 0.3701 - val_accuracy: 0.8366\n",
            "Epoch 3/10\n",
            "157/157 [==============================] - 7s 42ms/step - loss: 0.2790 - accuracy: 0.8851 - val_loss: 0.3729 - val_accuracy: 0.8384\n",
            "Epoch 4/10\n",
            "157/157 [==============================] - 6s 37ms/step - loss: 0.2267 - accuracy: 0.9093 - val_loss: 0.3788 - val_accuracy: 0.8332\n",
            "Epoch 5/10\n",
            "157/157 [==============================] - 6s 40ms/step - loss: 0.2019 - accuracy: 0.9230 - val_loss: 0.4052 - val_accuracy: 0.8324\n",
            "Epoch 6/10\n",
            "157/157 [==============================] - 6s 36ms/step - loss: 0.2010 - accuracy: 0.9250 - val_loss: 0.3985 - val_accuracy: 0.8376\n",
            "Epoch 7/10\n",
            "157/157 [==============================] - 6s 41ms/step - loss: 0.1349 - accuracy: 0.9511 - val_loss: 0.4490 - val_accuracy: 0.8334\n",
            "Epoch 8/10\n",
            "157/157 [==============================] - 6s 35ms/step - loss: 0.1003 - accuracy: 0.9648 - val_loss: 0.4839 - val_accuracy: 0.8306\n",
            "Epoch 9/10\n",
            "157/157 [==============================] - 6s 41ms/step - loss: 0.0767 - accuracy: 0.9775 - val_loss: 0.5331 - val_accuracy: 0.8272\n",
            "Epoch 10/10\n",
            "157/157 [==============================] - 6s 35ms/step - loss: 0.0634 - accuracy: 0.9815 - val_loss: 0.5975 - val_accuracy: 0.8258\n",
            "782/782 [==============================] - 6s 7ms/step - loss: 0.6099 - accuracy: 0.8232\n"
          ]
        }
      ]
    },
    {
      "cell_type": "markdown",
      "source": [
        "6. Train and evaluate the RNN model on long sequences"
      ],
      "metadata": {
        "id": "bPwYREuPgtpt"
      }
    },
    {
      "cell_type": "code",
      "source": [
        "print(\"\\nTraining Elman RNN model on long sequences:\")\n",
        "rnn_model_long_elman = build_elman_rnn_model()\n",
        "loss_long_elman, accuracy_long_elman, history_long_elman = train_and_evaluate_model(\n",
        "    rnn_model_long_elman, x_train_long, y_train, x_test_long, y_test\n",
        ")\n",
        "\n",
        "print(\"\\nTraining Jordan RNN model on long sequences:\")\n",
        "rnn_model_long_jordan = build_jordan_rnn_model()\n",
        "loss_long_jordan, accuracy_long_jordan, history_long_jordan = train_and_evaluate_model(\n",
        "    rnn_model_long_jordan, x_train_long, y_train, x_test_long, y_test\n",
        ")\n",
        "\n",
        "print(\"\\nTraining Bidireccional RNN model on long sequences:\")\n",
        "rnn_model_long_bidirection = build_bidirectional_rnn_model()\n",
        "loss_long_bidirection, accuracy_long_bidirection, history_long_bidirection = train_and_evaluate_model(\n",
        "    rnn_model_long_bidirection, x_train_long, y_train, x_test_long, y_test\n",
        ")"
      ],
      "metadata": {
        "colab": {
          "base_uri": "https://localhost:8080/"
        },
        "id": "02xb0Z88gwoe",
        "outputId": "18876646-5a96-49cb-c1c4-8afa8aa3a3a9"
      },
      "execution_count": 23,
      "outputs": [
        {
          "output_type": "stream",
          "name": "stdout",
          "text": [
            "\n",
            "Training Elman RNN model on long sequences:\n",
            "Epoch 1/10\n",
            "157/157 [==============================] - 21s 127ms/step - loss: 0.6197 - accuracy: 0.6454 - val_loss: 0.4908 - val_accuracy: 0.8000\n",
            "Epoch 2/10\n",
            "157/157 [==============================] - 19s 124ms/step - loss: 0.4837 - accuracy: 0.7729 - val_loss: 0.4184 - val_accuracy: 0.8212\n",
            "Epoch 3/10\n",
            "157/157 [==============================] - 19s 121ms/step - loss: 0.5789 - accuracy: 0.7422 - val_loss: 0.4557 - val_accuracy: 0.7944\n",
            "Epoch 4/10\n",
            "157/157 [==============================] - 20s 125ms/step - loss: 0.3571 - accuracy: 0.8565 - val_loss: 0.4186 - val_accuracy: 0.8132\n",
            "Epoch 5/10\n",
            "157/157 [==============================] - 20s 128ms/step - loss: 0.3198 - accuracy: 0.8665 - val_loss: 0.3814 - val_accuracy: 0.8412\n",
            "Epoch 6/10\n",
            "157/157 [==============================] - 19s 123ms/step - loss: 0.2960 - accuracy: 0.8805 - val_loss: 0.4406 - val_accuracy: 0.8066\n",
            "Epoch 7/10\n",
            "157/157 [==============================] - 20s 128ms/step - loss: 0.3403 - accuracy: 0.8680 - val_loss: 0.3655 - val_accuracy: 0.8528\n",
            "Epoch 8/10\n",
            "157/157 [==============================] - 20s 128ms/step - loss: 0.2590 - accuracy: 0.8987 - val_loss: 0.3858 - val_accuracy: 0.8466\n",
            "Epoch 9/10\n",
            "157/157 [==============================] - 19s 122ms/step - loss: 0.2472 - accuracy: 0.9016 - val_loss: 0.3783 - val_accuracy: 0.8492\n",
            "Epoch 10/10\n",
            "157/157 [==============================] - 20s 126ms/step - loss: 0.2077 - accuracy: 0.9204 - val_loss: 0.3747 - val_accuracy: 0.8456\n",
            "782/782 [==============================] - 14s 18ms/step - loss: 0.3862 - accuracy: 0.8409\n",
            "\n",
            "Training Jordan RNN model on long sequences:\n",
            "Epoch 1/10\n",
            "157/157 [==============================] - 23s 140ms/step - loss: 0.6112 - accuracy: 0.6963 - val_loss: 0.4659 - val_accuracy: 0.7990\n",
            "Epoch 2/10\n",
            "157/157 [==============================] - 22s 139ms/step - loss: 0.3722 - accuracy: 0.8406 - val_loss: 0.3173 - val_accuracy: 0.8668\n",
            "Epoch 3/10\n",
            "157/157 [==============================] - 21s 134ms/step - loss: 0.2641 - accuracy: 0.8943 - val_loss: 0.2978 - val_accuracy: 0.8764\n",
            "Epoch 4/10\n",
            "157/157 [==============================] - 22s 139ms/step - loss: 0.2075 - accuracy: 0.9191 - val_loss: 0.3142 - val_accuracy: 0.8656\n",
            "Epoch 5/10\n",
            "157/157 [==============================] - 22s 138ms/step - loss: 0.1619 - accuracy: 0.9405 - val_loss: 0.3232 - val_accuracy: 0.8750\n",
            "Epoch 6/10\n",
            "157/157 [==============================] - 22s 137ms/step - loss: 0.1388 - accuracy: 0.9506 - val_loss: 0.3243 - val_accuracy: 0.8740\n",
            "Epoch 7/10\n",
            "157/157 [==============================] - 22s 140ms/step - loss: 0.1113 - accuracy: 0.9615 - val_loss: 0.3537 - val_accuracy: 0.8740\n",
            "Epoch 8/10\n",
            "157/157 [==============================] - 22s 139ms/step - loss: 0.0978 - accuracy: 0.9665 - val_loss: 0.3559 - val_accuracy: 0.8732\n",
            "Epoch 9/10\n",
            "157/157 [==============================] - 23s 144ms/step - loss: 0.0899 - accuracy: 0.9704 - val_loss: 0.4255 - val_accuracy: 0.8652\n",
            "Epoch 10/10\n",
            "157/157 [==============================] - 21s 134ms/step - loss: 0.0697 - accuracy: 0.9794 - val_loss: 0.4573 - val_accuracy: 0.8706\n",
            "782/782 [==============================] - 15s 19ms/step - loss: 0.4834 - accuracy: 0.8583\n",
            "\n",
            "Training Bidireccional RNN model on long sequences:\n",
            "Epoch 1/10\n",
            "157/157 [==============================] - 32s 193ms/step - loss: 0.6858 - accuracy: 0.5914 - val_loss: 0.6453 - val_accuracy: 0.6684\n",
            "Epoch 2/10\n",
            "157/157 [==============================] - 29s 185ms/step - loss: 0.5639 - accuracy: 0.7398 - val_loss: 0.5644 - val_accuracy: 0.7162\n",
            "Epoch 3/10\n",
            "157/157 [==============================] - 29s 188ms/step - loss: 0.5485 - accuracy: 0.7481 - val_loss: 0.5863 - val_accuracy: 0.6694\n",
            "Epoch 4/10\n",
            "157/157 [==============================] - 29s 183ms/step - loss: 0.4818 - accuracy: 0.7773 - val_loss: 0.4480 - val_accuracy: 0.7882\n",
            "Epoch 5/10\n",
            "157/157 [==============================] - 31s 195ms/step - loss: 0.3321 - accuracy: 0.8597 - val_loss: 0.4488 - val_accuracy: 0.7988\n",
            "Epoch 6/10\n",
            "157/157 [==============================] - 29s 182ms/step - loss: 0.2819 - accuracy: 0.8853 - val_loss: 0.3502 - val_accuracy: 0.8540\n",
            "Epoch 7/10\n",
            "157/157 [==============================] - 30s 188ms/step - loss: 0.2474 - accuracy: 0.9026 - val_loss: 0.3587 - val_accuracy: 0.8516\n",
            "Epoch 8/10\n",
            "157/157 [==============================] - 32s 207ms/step - loss: 0.2675 - accuracy: 0.8920 - val_loss: 0.3667 - val_accuracy: 0.8540\n",
            "Epoch 9/10\n",
            "157/157 [==============================] - 29s 185ms/step - loss: 0.1927 - accuracy: 0.9280 - val_loss: 0.3770 - val_accuracy: 0.8476\n",
            "Epoch 10/10\n",
            "157/157 [==============================] - 30s 193ms/step - loss: 0.1678 - accuracy: 0.9397 - val_loss: 0.3903 - val_accuracy: 0.8522\n",
            "782/782 [==============================] - 19s 24ms/step - loss: 0.3974 - accuracy: 0.8519\n"
          ]
        }
      ]
    },
    {
      "cell_type": "markdown",
      "source": [
        "7. Compare the results"
      ],
      "metadata": {
        "id": "Y8qFBy9ag2VV"
      }
    },
    {
      "cell_type": "code",
      "source": [
        "print(\"\\nResults on Short Sequences of Elman:\")\n",
        "print(f\"Loss: {loss_short_elmam:.4f}, Accuracy: {accuracy_short_elman:.4f}\")\n",
        "\n",
        "print(\"\\nResults on Long Sequences of Elman:\")\n",
        "print(f\"Loss: {loss_long_elman:.4f}, Accuracy: {accuracy_long_elman:.4f}\")"
      ],
      "metadata": {
        "colab": {
          "base_uri": "https://localhost:8080/"
        },
        "id": "1AML1ouWg1pa",
        "outputId": "78140d9c-dbb7-483b-e288-855e914c05c6"
      },
      "execution_count": 24,
      "outputs": [
        {
          "output_type": "stream",
          "name": "stdout",
          "text": [
            "\n",
            "Results on Short Sequences of Elman:\n",
            "Loss: 0.5090, Accuracy: 0.8268\n",
            "\n",
            "Results on Long Sequences of Elman:\n",
            "Loss: 0.3862, Accuracy: 0.8409\n"
          ]
        }
      ]
    },
    {
      "cell_type": "code",
      "source": [
        "print(\"\\nResults on Short Sequences of Jordan:\")\n",
        "print(f\"Loss: {loss_short_jordan:.4f}, Accuracy: {accuracy_short_jordan:.4f}\")\n",
        "\n",
        "print(\"\\nResults on Long Sequences of Jordan:\")\n",
        "print(f\"Loss: {loss_long_jordan:.4f}, Accuracy: {accuracy_long_jordan:.4f}\")"
      ],
      "metadata": {
        "colab": {
          "base_uri": "https://localhost:8080/"
        },
        "id": "7XlLCNoDg6Wp",
        "outputId": "9437e42c-ebdd-413b-a530-395c06d2a051"
      },
      "execution_count": 25,
      "outputs": [
        {
          "output_type": "stream",
          "name": "stdout",
          "text": [
            "\n",
            "Results on Short Sequences of Jordan:\n",
            "Loss: 0.5920, Accuracy: 0.8138\n",
            "\n",
            "Results on Long Sequences of Jordan:\n",
            "Loss: 0.4834, Accuracy: 0.8583\n"
          ]
        }
      ]
    },
    {
      "cell_type": "code",
      "source": [
        "print(\"\\nResults on Short Sequences of Bidirection:\")\n",
        "print(f\"Loss: {loss_short_bidirection:.4f}, Accuracy: {accuracy_short_bidirection:.4f}\")\n",
        "\n",
        "print(\"\\nResults on Long Sequences of Bidirection:\")\n",
        "print(f\"Loss: {loss_long_bidirection:.4f}, Accuracy: {accuracy_long_bidirection:.4f}\")"
      ],
      "metadata": {
        "colab": {
          "base_uri": "https://localhost:8080/"
        },
        "id": "y1aIdxe4g6e7",
        "outputId": "6a4ccce0-9b8e-4501-f9ae-f98bc781e18d"
      },
      "execution_count": 26,
      "outputs": [
        {
          "output_type": "stream",
          "name": "stdout",
          "text": [
            "\n",
            "Results on Short Sequences of Bidirection:\n",
            "Loss: 0.6099, Accuracy: 0.8232\n",
            "\n",
            "Results on Long Sequences of Bidirection:\n",
            "Loss: 0.3974, Accuracy: 0.8519\n"
          ]
        }
      ]
    }
  ]
}